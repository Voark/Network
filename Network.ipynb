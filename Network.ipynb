{
  "nbformat": 4,
  "nbformat_minor": 0,
  "metadata": {
    "kernelspec": {
      "display_name": "Python 3",
      "language": "python",
      "name": "python3"
    },
    "language_info": {
      "codemirror_mode": {
        "name": "ipython",
        "version": 3
      },
      "file_extension": ".py",
      "mimetype": "text/x-python",
      "name": "python",
      "nbconvert_exporter": "python",
      "pygments_lexer": "ipython3",
      "version": "3.8.3"
    },
    "colab": {
      "name": "Network.ipynb",
      "provenance": []
    }
  },
  "cells": [
    {
      "cell_type": "code",
      "metadata": {
        "id": "baBYx0IMPdT5",
        "colab_type": "code",
        "colab": {}
      },
      "source": [
        "!pip install mlxtend\n",
        "from mlxtend.data import loadlocal_mnist\n",
        "//import cupy as cp\n",
        "\n",
        "x, y = loadlocal_mnist(images_path = r'C:\\Users\\fredi\\PycharmProjects\\Network\\Data\\train-images.idx3-ubyte', labels_path = r'C:\\Users\\fredi\\PycharmProjects\\Network\\Data\\train-labels.idx1-ubyte')"
      ],
      "execution_count": null,
      "outputs": []
    },
    {
      "cell_type": "code",
      "metadata": {
        "id": "2Uo6lve3PdUB",
        "colab_type": "code",
        "colab": {},
        "outputId": "38da490c-71f9-4472-e292-69e805b1cb9e"
      },
      "source": [
        "print(type(x))"
      ],
      "execution_count": null,
      "outputs": [
        {
          "output_type": "stream",
          "text": [
            "<class 'numpy.ndarray'>\n"
          ],
          "name": "stdout"
        }
      ]
    },
    {
      "cell_type": "code",
      "metadata": {
        "id": "AYKFp7v7PdUI",
        "colab_type": "code",
        "colab": {}
      },
      "source": [
        "import numpy as cp\n",
        "import activation_functions as func\n",
        "\n",
        "class network():\n",
        "    \n",
        "def __init__(self):\n",
        "    self.layer_sizes = []\n",
        "    self.weights = []\n",
        "    self.biases = []\n",
        "    self.activation_functions = func.list_functions #need to add functions\n",
        "    self.activations = []\n",
        "    self.compiled = False\n",
        "      \n",
        "    def set_input(self, input_size):\n",
        "        self.input_size = input_size\n",
        "      \n",
        "    def set_output(self, outputs):\n",
        "        if type(outputs) == int:\n",
        "            self.outputs = outputs\n",
        "        else:\n",
        "            print(\"Ints only\")\n",
        "          \n",
        "    def add_hidden_layers(self, number, size, activation):\n",
        "        if type(number) == int and type(size) == int and activation_functions.count(activation):\n",
        "            for i in range(number): \n",
        "                self.hidden_layer_sizes.append(size)\n",
        "                self.activations.append(activation)\n",
        "        else:\n",
        "            print(\"Number/size are not ints or activation function doesn't exist\")\n",
        "    \n",
        "    def reset_hidden_layers(self):\n",
        "        self.weights = []\n",
        "        self.biases = []\n",
        "        self.compiled = False\n",
        "      \n",
        "    def list_layers(self):\n",
        "        return self.layer_sizes\n",
        "      \n",
        "    def hidden_layers(self):\n",
        "        return self.hidden_layers\n",
        "  \n",
        "    def compile_network(self, alpha):\n",
        "        if not self.compiled:\n",
        "            try:\n",
        "                self.weights.append(cp.random.rand(self.layer_sizes[0], self.input_size))\n",
        "                self.biases.append(cp.random.rand(self.layer_sizes[0]))\n",
        "            except:\n",
        "                print(\"Layer sizes and/or input size not defined\")\n",
        "                self.reset_hidden_layers()\n",
        "                return\n",
        "            for i in range(len(self.layer_sizes)):\n",
        "                self.weights.append(cp.random.rand(self.layer_sizes[i], self.layer_sizes[i-1]))\n",
        "                self.biases.append(cp.random.rand(self.layer_sizes[i]))\n",
        "            try:\n",
        "                self.weights.append(cp.random.rand(self.outputs, self.layer_sizes[-1]))\n",
        "                self.biases.append(self.outputs)\n",
        "            except:\n",
        "                print(\"Outputs not defined\")\n",
        "                self.reset_hidden_layers()\n",
        "                return\n",
        "        self.compiled = True\n",
        "        self.alpha = alpha\n",
        "        return\n",
        "        else:\n",
        "            print(\"Already compiled\")\n",
        "            return\n",
        "#for fun recursion method  \n",
        "#    def __forward_prop(self, x, layer = 0):\n",
        "#        try:\n",
        "#            new_x = self.activations[layer](cp.matmul(self.weights[layer], ))\n",
        "#        except IndexError:\n",
        "#            return\n",
        "#            return\n",
        "\n",
        "    def __forward_prop(self, x):\n",
        "        inputs = [x]\n",
        "        for weights, biases, activation_function, input in zip(self.weights, self.biases, self.activations, inputs):\n",
        "            inputs.append(activation_function(cp.add(cp.matmul(weights, input), biases)))\n",
        "        return inputs"
      ],
      "execution_count": null,
      "outputs": []
    },
    {
      "cell_type": "code",
      "metadata": {
        "id": "e-aWsVmzPdUN",
        "colab_type": "code",
        "colab": {
          "base_uri": "https://localhost:8080/",
          "height": 34
        },
        "outputId": "efabfea5-068a-4c79-ef43-6900a3086053"
      },
      "source": [
        "import sympy\n",
        "sympy.limit(2/)"
      ],
      "execution_count": null,
      "outputs": [
        {
          "output_type": "execute_result",
          "data": {
            "text/plain": [
              "0.0"
            ]
          },
          "metadata": {
            "tags": []
          },
          "execution_count": 43
        }
      ]
    },
    {
      "cell_type": "code",
      "metadata": {
        "id": "6N4oJXzYL6TT",
        "colab_type": "code",
        "colab": {
          "base_uri": "https://localhost:8080/",
          "height": 86
        },
        "outputId": "34512f8b-7268-400e-d1e0-dd14cb94228c"
      },
      "source": [
        "a = [1, 2, 3, 4]\n",
        "b = [3, 4, 5, 6]\n",
        "c = [1]\n",
        "\n",
        "for x, y, z in zip(a, b, c):\n",
        "  print(x, y, z)\n",
        "  c.append(x)\n"
      ],
      "execution_count": null,
      "outputs": [
        {
          "output_type": "stream",
          "text": [
            "1 3 1\n",
            "2 4 1\n",
            "3 5 2\n",
            "4 6 3\n"
          ],
          "name": "stdout"
        }
      ]
    },
    {
      "cell_type": "code",
      "metadata": {
        "id": "tebFnwUfArqu",
        "colab_type": "code",
        "colab": {}
      },
      "source": [
        ""
      ],
      "execution_count": null,
      "outputs": []
    }
  ]
}